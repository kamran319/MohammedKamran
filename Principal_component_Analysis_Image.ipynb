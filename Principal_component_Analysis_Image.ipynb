{
 "cells": [
  {
   "cell_type": "code",
   "execution_count": 1,
   "metadata": {},
   "outputs": [],
   "source": [
    "import numpy as np\n",
    "import pandas as pd\n",
    "import matplotlib.pyplot as plt\n",
    "import seaborn as sb\n",
    "import PIL\n",
    "import pip\n",
    "from PIL import Image\n",
    "from matplotlib import image\n",
    "from matplotlib import pyplot  \n",
    "from os import listdir\n",
    "import cv2\n",
    "import os\n",
    "import IPython.display as dp\n",
    "import glob"
   ]
  },
  {
   "cell_type": "code",
   "execution_count": 3,
   "metadata": {},
   "outputs": [],
   "source": [
    "from scipy.io import loadmat"
   ]
  },
  {
   "cell_type": "code",
   "execution_count": 5,
   "metadata": {},
   "outputs": [],
   "source": [
    "Data=loadmat('D:\\\\\\ML Data\\\\PCA\\\\ex7data1.mat')"
   ]
  },
  {
   "cell_type": "code",
   "execution_count": 6,
   "metadata": {},
   "outputs": [
    {
     "data": {
      "text/plain": [
       "{'__header__': b'MATLAB 5.0 MAT-file, Platform: PCWIN64, Created on: Mon Nov 14 22:41:44 2011',\n",
       " '__version__': '1.0',\n",
       " '__globals__': [],\n",
       " 'X': array([[3.38156267, 3.38911268],\n",
       "        [4.52787538, 5.8541781 ],\n",
       "        [2.65568187, 4.41199472],\n",
       "        [2.76523467, 3.71541365],\n",
       "        [2.84656011, 4.17550645],\n",
       "        [3.89067196, 6.48838087],\n",
       "        [3.47580524, 3.63284876],\n",
       "        [5.91129845, 6.68076853],\n",
       "        [3.92889397, 5.09844661],\n",
       "        [4.56183537, 5.62329929],\n",
       "        [4.57407171, 5.39765069],\n",
       "        [4.37173356, 5.46116549],\n",
       "        [4.19169388, 4.95469359],\n",
       "        [5.24408518, 4.66148767],\n",
       "        [2.8358402 , 3.76801716],\n",
       "        [5.63526969, 6.31211438],\n",
       "        [4.68632968, 5.6652411 ],\n",
       "        [2.85051337, 4.62645627],\n",
       "        [5.1101573 , 7.36319662],\n",
       "        [5.18256377, 4.64650909],\n",
       "        [5.70732809, 6.68103995],\n",
       "        [3.57968458, 4.80278074],\n",
       "        [5.63937773, 6.12043594],\n",
       "        [4.26346851, 4.68942896],\n",
       "        [2.53651693, 3.88449078],\n",
       "        [3.22382902, 4.94255585],\n",
       "        [4.92948801, 5.95501971],\n",
       "        [5.79295774, 5.10839305],\n",
       "        [2.81684824, 4.81895769],\n",
       "        [3.88882414, 5.10036564],\n",
       "        [3.34323419, 5.89301345],\n",
       "        [5.87973414, 5.52141664],\n",
       "        [3.10391912, 3.85710242],\n",
       "        [5.33150572, 4.68074235],\n",
       "        [3.37542687, 4.56537852],\n",
       "        [4.77667888, 6.25435039],\n",
       "        [2.6757463 , 3.73096988],\n",
       "        [5.50027665, 5.67948113],\n",
       "        [1.79709714, 3.24753885],\n",
       "        [4.3225147 , 5.11110472],\n",
       "        [4.42100445, 6.02563978],\n",
       "        [3.17929886, 4.43686032],\n",
       "        [3.03354125, 3.97879278],\n",
       "        [4.6093482 , 5.879792  ],\n",
       "        [2.96378859, 3.30024835],\n",
       "        [3.97176248, 5.40773735],\n",
       "        [1.18023321, 2.87869409],\n",
       "        [1.91895045, 5.07107848],\n",
       "        [3.95524687, 4.5053271 ],\n",
       "        [5.11795499, 6.08507386]])}"
      ]
     },
     "execution_count": 6,
     "metadata": {},
     "output_type": "execute_result"
    }
   ],
   "source": [
    "Data"
   ]
  },
  {
   "cell_type": "code",
   "execution_count": 8,
   "metadata": {},
   "outputs": [],
   "source": [
    "X=Data['X']"
   ]
  },
  {
   "cell_type": "code",
   "execution_count": 9,
   "metadata": {},
   "outputs": [
    {
     "data": {
      "text/plain": [
       "array([[3.38156267, 3.38911268],\n",
       "       [4.52787538, 5.8541781 ],\n",
       "       [2.65568187, 4.41199472],\n",
       "       [2.76523467, 3.71541365],\n",
       "       [2.84656011, 4.17550645],\n",
       "       [3.89067196, 6.48838087],\n",
       "       [3.47580524, 3.63284876],\n",
       "       [5.91129845, 6.68076853],\n",
       "       [3.92889397, 5.09844661],\n",
       "       [4.56183537, 5.62329929],\n",
       "       [4.57407171, 5.39765069],\n",
       "       [4.37173356, 5.46116549],\n",
       "       [4.19169388, 4.95469359],\n",
       "       [5.24408518, 4.66148767],\n",
       "       [2.8358402 , 3.76801716],\n",
       "       [5.63526969, 6.31211438],\n",
       "       [4.68632968, 5.6652411 ],\n",
       "       [2.85051337, 4.62645627],\n",
       "       [5.1101573 , 7.36319662],\n",
       "       [5.18256377, 4.64650909],\n",
       "       [5.70732809, 6.68103995],\n",
       "       [3.57968458, 4.80278074],\n",
       "       [5.63937773, 6.12043594],\n",
       "       [4.26346851, 4.68942896],\n",
       "       [2.53651693, 3.88449078],\n",
       "       [3.22382902, 4.94255585],\n",
       "       [4.92948801, 5.95501971],\n",
       "       [5.79295774, 5.10839305],\n",
       "       [2.81684824, 4.81895769],\n",
       "       [3.88882414, 5.10036564],\n",
       "       [3.34323419, 5.89301345],\n",
       "       [5.87973414, 5.52141664],\n",
       "       [3.10391912, 3.85710242],\n",
       "       [5.33150572, 4.68074235],\n",
       "       [3.37542687, 4.56537852],\n",
       "       [4.77667888, 6.25435039],\n",
       "       [2.6757463 , 3.73096988],\n",
       "       [5.50027665, 5.67948113],\n",
       "       [1.79709714, 3.24753885],\n",
       "       [4.3225147 , 5.11110472],\n",
       "       [4.42100445, 6.02563978],\n",
       "       [3.17929886, 4.43686032],\n",
       "       [3.03354125, 3.97879278],\n",
       "       [4.6093482 , 5.879792  ],\n",
       "       [2.96378859, 3.30024835],\n",
       "       [3.97176248, 5.40773735],\n",
       "       [1.18023321, 2.87869409],\n",
       "       [1.91895045, 5.07107848],\n",
       "       [3.95524687, 4.5053271 ],\n",
       "       [5.11795499, 6.08507386]])"
      ]
     },
     "execution_count": 9,
     "metadata": {},
     "output_type": "execute_result"
    }
   ],
   "source": [
    "X"
   ]
  },
  {
   "cell_type": "code",
   "execution_count": 10,
   "metadata": {},
   "outputs": [
    {
     "data": {
      "text/plain": [
       "(50, 2)"
      ]
     },
     "execution_count": 10,
     "metadata": {},
     "output_type": "execute_result"
    }
   ],
   "source": [
    "X.shape"
   ]
  },
  {
   "cell_type": "code",
   "execution_count": 11,
   "metadata": {},
   "outputs": [],
   "source": [
    "X1=X[:,0:1]\n",
    "X2=X[:,1:2]"
   ]
  },
  {
   "cell_type": "code",
   "execution_count": 12,
   "metadata": {},
   "outputs": [
    {
     "data": {
      "text/plain": [
       "array([[3.38156267],\n",
       "       [4.52787538],\n",
       "       [2.65568187],\n",
       "       [2.76523467],\n",
       "       [2.84656011],\n",
       "       [3.89067196],\n",
       "       [3.47580524],\n",
       "       [5.91129845],\n",
       "       [3.92889397],\n",
       "       [4.56183537],\n",
       "       [4.57407171],\n",
       "       [4.37173356],\n",
       "       [4.19169388],\n",
       "       [5.24408518],\n",
       "       [2.8358402 ],\n",
       "       [5.63526969],\n",
       "       [4.68632968],\n",
       "       [2.85051337],\n",
       "       [5.1101573 ],\n",
       "       [5.18256377],\n",
       "       [5.70732809],\n",
       "       [3.57968458],\n",
       "       [5.63937773],\n",
       "       [4.26346851],\n",
       "       [2.53651693],\n",
       "       [3.22382902],\n",
       "       [4.92948801],\n",
       "       [5.79295774],\n",
       "       [2.81684824],\n",
       "       [3.88882414],\n",
       "       [3.34323419],\n",
       "       [5.87973414],\n",
       "       [3.10391912],\n",
       "       [5.33150572],\n",
       "       [3.37542687],\n",
       "       [4.77667888],\n",
       "       [2.6757463 ],\n",
       "       [5.50027665],\n",
       "       [1.79709714],\n",
       "       [4.3225147 ],\n",
       "       [4.42100445],\n",
       "       [3.17929886],\n",
       "       [3.03354125],\n",
       "       [4.6093482 ],\n",
       "       [2.96378859],\n",
       "       [3.97176248],\n",
       "       [1.18023321],\n",
       "       [1.91895045],\n",
       "       [3.95524687],\n",
       "       [5.11795499]])"
      ]
     },
     "execution_count": 12,
     "metadata": {},
     "output_type": "execute_result"
    }
   ],
   "source": [
    "X1"
   ]
  },
  {
   "cell_type": "code",
   "execution_count": 13,
   "metadata": {},
   "outputs": [
    {
     "data": {
      "text/plain": [
       "array([[3.38911268],\n",
       "       [5.8541781 ],\n",
       "       [4.41199472],\n",
       "       [3.71541365],\n",
       "       [4.17550645],\n",
       "       [6.48838087],\n",
       "       [3.63284876],\n",
       "       [6.68076853],\n",
       "       [5.09844661],\n",
       "       [5.62329929],\n",
       "       [5.39765069],\n",
       "       [5.46116549],\n",
       "       [4.95469359],\n",
       "       [4.66148767],\n",
       "       [3.76801716],\n",
       "       [6.31211438],\n",
       "       [5.6652411 ],\n",
       "       [4.62645627],\n",
       "       [7.36319662],\n",
       "       [4.64650909],\n",
       "       [6.68103995],\n",
       "       [4.80278074],\n",
       "       [6.12043594],\n",
       "       [4.68942896],\n",
       "       [3.88449078],\n",
       "       [4.94255585],\n",
       "       [5.95501971],\n",
       "       [5.10839305],\n",
       "       [4.81895769],\n",
       "       [5.10036564],\n",
       "       [5.89301345],\n",
       "       [5.52141664],\n",
       "       [3.85710242],\n",
       "       [4.68074235],\n",
       "       [4.56537852],\n",
       "       [6.25435039],\n",
       "       [3.73096988],\n",
       "       [5.67948113],\n",
       "       [3.24753885],\n",
       "       [5.11110472],\n",
       "       [6.02563978],\n",
       "       [4.43686032],\n",
       "       [3.97879278],\n",
       "       [5.879792  ],\n",
       "       [3.30024835],\n",
       "       [5.40773735],\n",
       "       [2.87869409],\n",
       "       [5.07107848],\n",
       "       [4.5053271 ],\n",
       "       [6.08507386]])"
      ]
     },
     "execution_count": 13,
     "metadata": {},
     "output_type": "execute_result"
    }
   ],
   "source": [
    "X2"
   ]
  },
  {
   "cell_type": "code",
   "execution_count": 14,
   "metadata": {},
   "outputs": [
    {
     "data": {
      "text/plain": [
       "<matplotlib.collections.PathCollection at 0x25184f1f208>"
      ]
     },
     "execution_count": 14,
     "metadata": {},
     "output_type": "execute_result"
    },
    {
     "data": {
      "image/png": "[encoded data removed]",
      "text/plain": [
       "<Figure size 864x576 with 1 Axes>"
      ]
     },
     "metadata": {},
     "output_type": "display_data"
    }
   ],
   "source": [
    "fig,ax=plt.subplots(figsize=(12,8))\n",
    "ax.scatter(X1,X2)"
   ]
  },
  {
   "cell_type": "code",
   "execution_count": 15,
   "metadata": {},
   "outputs": [],
   "source": [
    "def PCA(X):  \n",
    "    # normalize the features\n",
    "    X = (X - X.mean()) / X.std()\n",
    "\n",
    "    # compute the covariance matrix\n",
    "    X = np.matrix(X)\n",
    "    cov = (X.T * X) / X.shape[0]\n",
    "\n",
    "    # perform SVD singular value decomposition, U,V=Eigen vectors, S=Eigen Values, for singular Linalg\n",
    "    U, S, V = np.linalg.svd(cov)\n",
    "\n",
    "    return U, S, V"
   ]
  },
  {
   "cell_type": "code",
   "execution_count": 21,
   "metadata": {},
   "outputs": [],
   "source": [
    "U,S,V=PCA(X)"
   ]
  },
  {
   "cell_type": "code",
   "execution_count": 22,
   "metadata": {},
   "outputs": [
    {
     "data": {
      "text/plain": [
       "(matrix([[-0.79241747, -0.60997914],\n",
       "         [-0.60997914,  0.79241747]]),\n",
       " array([1.43584536, 0.56415464]),\n",
       " matrix([[-0.79241747, -0.60997914],\n",
       "         [-0.60997914,  0.79241747]]))"
      ]
     },
     "execution_count": 22,
     "metadata": {},
     "output_type": "execute_result"
    }
   ],
   "source": [
    "U,S,V"
   ]
  },
  {
   "cell_type": "code",
   "execution_count": 20,
   "metadata": {},
   "outputs": [
    {
     "data": {
      "text/plain": [
       "(matrix([[-0.79241747, -0.60997914],\n",
       "         [-0.60997914,  0.79241747]]),\n",
       " array([1.43584536, 0.56415464]),\n",
       " matrix([[-0.79241747, -0.60997914],\n",
       "         [-0.60997914,  0.79241747]]))"
      ]
     },
     "execution_count": 20,
     "metadata": {},
     "output_type": "execute_result"
    }
   ],
   "source": [
    "PCA(X)"
   ]
  },
  {
   "cell_type": "code",
   "execution_count": 26,
   "metadata": {},
   "outputs": [],
   "source": [
    "def project_data(X, U, k):  \n",
    "    U_reduced = U[:,:k] \n",
    "    return np.matrix(X) * U_reduced"
   ]
  },
  {
   "cell_type": "code",
   "execution_count": 28,
   "metadata": {},
   "outputs": [],
   "source": [
    "z=project_data(X, U, 1)"
   ]
  },
  {
   "cell_type": "code",
   "execution_count": 31,
   "metadata": {},
   "outputs": [
    {
     "data": {
      "text/plain": [
       "matrix([[-4.74689738],\n",
       "        [-7.15889408],\n",
       "        [-4.79563345],\n",
       "        [-4.45754509],\n",
       "        [-4.80263579],\n",
       "        [-7.04081342],\n",
       "        [-4.97025076],\n",
       "        [-8.75934561],\n",
       "        [-6.2232703 ],\n",
       "        [-7.04497331],\n",
       "        [-6.91702866],\n",
       "        [-6.79543508],\n",
       "        [-6.3438312 ],\n",
       "        [-6.99891495],\n",
       "        [-4.54558119],\n",
       "        [-8.31574426],\n",
       "        [-7.16920841],\n",
       "        [-5.08083842],\n",
       "        [-8.54077427],\n",
       "        [-6.94102769],\n",
       "        [-8.5978815 ],\n",
       "        [-5.76620067],\n",
       "        [-8.2020797 ],\n",
       "        [-6.23890078],\n",
       "        [-4.37943868],\n",
       "        [-5.56947441],\n",
       "        [-7.53865023],\n",
       "        [-7.70645413],\n",
       "        [-5.17158343],\n",
       "        [-6.19268884],\n",
       "        [-6.24385246],\n",
       "        [-8.02715303],\n",
       "        [-4.81235176],\n",
       "        [-7.07993347],\n",
       "        [-5.45953289],\n",
       "        [-7.60014707],\n",
       "        [-4.39612191],\n",
       "        [-7.82288033],\n",
       "        [-3.40498213],\n",
       "        [-6.54290343],\n",
       "        [-7.17879573],\n",
       "        [-5.22572421],\n",
       "        [-4.83081168],\n",
       "        [-7.23907851],\n",
       "        [-4.36164051],\n",
       "        [-6.44590096],\n",
       "        [-2.69118076],\n",
       "        [-4.61386195],\n",
       "        [-5.88236227],\n",
       "        [-7.76732508]])"
      ]
     },
     "execution_count": 31,
     "metadata": {},
     "output_type": "execute_result"
    }
   ],
   "source": [
    "z"
   ]
  },
  {
   "cell_type": "code",
   "execution_count": 30,
   "metadata": {},
   "outputs": [
    {
     "data": {
      "text/plain": [
       "(50, 1)"
      ]
     },
     "execution_count": 30,
     "metadata": {},
     "output_type": "execute_result"
    }
   ],
   "source": [
    "z.shape"
   ]
  },
  {
   "cell_type": "code",
   "execution_count": 37,
   "metadata": {},
   "outputs": [],
   "source": [
    "def recover_data(Z, U, k):  \n",
    "    U_reduced = U[:,:k]\n",
    "    return np.dot(Z, U_reduced.T)"
   ]
  },
  {
   "cell_type": "code",
   "execution_count": 38,
   "metadata": {},
   "outputs": [
    {
     "data": {
      "text/plain": [
       "matrix([[3.76152442, 2.89550838],\n",
       "        [5.67283275, 4.36677606],\n",
       "        [3.80014373, 2.92523637],\n",
       "        [3.53223661, 2.71900952],\n",
       "        [3.80569251, 2.92950765],\n",
       "        [5.57926356, 4.29474931],\n",
       "        [3.93851354, 3.03174929],\n",
       "        [6.94105849, 5.3430181 ],\n",
       "        [4.93142811, 3.79606507],\n",
       "        [5.58255993, 4.29728676],\n",
       "        [5.48117436, 4.21924319],\n",
       "        [5.38482148, 4.14507365],\n",
       "        [5.02696267, 3.8696047 ],\n",
       "        [5.54606249, 4.26919213],\n",
       "        [3.60199795, 2.77270971],\n",
       "        [6.58954104, 5.07243054],\n",
       "        [5.681006  , 4.37306758],\n",
       "        [4.02614513, 3.09920545],\n",
       "        [6.76785875, 5.20969415],\n",
       "        [5.50019161, 4.2338821 ],\n",
       "        [6.81311151, 5.24452836],\n",
       "        [4.56923815, 3.51726213],\n",
       "        [6.49947125, 5.00309752],\n",
       "        [4.94381398, 3.80559934],\n",
       "        [3.47034372, 2.67136624],\n",
       "        [4.41334883, 3.39726321],\n",
       "        [5.97375815, 4.59841938],\n",
       "        [6.10672889, 4.70077626],\n",
       "        [4.09805306, 3.15455801],\n",
       "        [4.90719483, 3.77741101],\n",
       "        [4.94773778, 3.80861976],\n",
       "        [6.36085631, 4.8963959 ],\n",
       "        [3.81339161, 2.93543419],\n",
       "        [5.61026298, 4.31861173],\n",
       "        [4.32622924, 3.33020118],\n",
       "        [6.02248932, 4.63593118],\n",
       "        [3.48356381, 2.68154267],\n",
       "        [6.19898705, 4.77179382],\n",
       "        [2.69816733, 2.07696807],\n",
       "        [5.18471099, 3.99103461],\n",
       "        [5.68860316, 4.37891565],\n",
       "        [4.14095516, 3.18758276],\n",
       "        [3.82801958, 2.94669436],\n",
       "        [5.73637229, 4.41568689],\n",
       "        [3.45624014, 2.66050973],\n",
       "        [5.10784454, 3.93186513],\n",
       "        [2.13253865, 1.64156413],\n",
       "        [3.65610482, 2.81435955],\n",
       "        [4.66128664, 3.58811828],\n",
       "        [6.1549641 , 4.73790627]])"
      ]
     },
     "execution_count": 38,
     "metadata": {},
     "output_type": "execute_result"
    }
   ],
   "source": [
    "X_recovered = recover_data(z, U, 1) \n",
    "X_recovered"
   ]
  },
  {
   "cell_type": "code",
   "execution_count": 39,
   "metadata": {},
   "outputs": [
    {
     "data": {
      "text/plain": [
       "<matplotlib.collections.PathCollection at 0x25182e17278>"
      ]
     },
     "execution_count": 39,
     "metadata": {},
     "output_type": "execute_result"
    },
    {
     "data": {
      "image/png": "[encoded data removed]",
      "text/plain": [
       "<Figure size 864x576 with 1 Axes>"
      ]
     },
     "metadata": {},
     "output_type": "display_data"
    }
   ],
   "source": [
    "fig, ax = plt.subplots(figsize=(12,8))  \n",
    "ax.scatter(np.array(X_recovered[:, 0]), np.array(X_recovered[:, 1]))"
   ]
  },
  {
   "cell_type": "code",
   "execution_count": 40,
   "metadata": {},
   "outputs": [],
   "source": [
    "Data_1=loadmat('D:\\\\\\ML Data\\\\PCA\\\\ex7faces.mat')"
   ]
  },
  {
   "cell_type": "code",
   "execution_count": 41,
   "metadata": {},
   "outputs": [
    {
     "data": {
      "text/plain": [
       "{'__header__': b'MATLAB 5.0 MAT-file, Platform: PCWIN64, Created on: Mon Nov 14 23:46:35 2011',\n",
       " '__version__': '1.0',\n",
       " '__globals__': [],\n",
       " 'X': array([[ -37.86631387,  -45.86631387,  -53.86631387, ..., -110.86631387,\n",
       "         -111.86631387,  -99.86631387],\n",
       "        [   8.13368613,   -0.86631387,   -8.86631387, ...,  -34.86631387,\n",
       "           -8.86631387,    0.13368613],\n",
       "        [ -32.86631387,  -34.86631387,  -36.86631387, ..., -110.86631387,\n",
       "         -111.86631387, -111.86631387],\n",
       "        ...,\n",
       "        [ -46.86631387,  -24.86631387,   -8.86631387, ...,   90.13368613,\n",
       "           80.13368613,   59.13368613],\n",
       "        [  19.13368613,   16.13368613,   14.13368613, ...,  -38.86631387,\n",
       "          -41.86631387,  -46.86631387],\n",
       "        [-108.86631387, -106.86631387, -102.86631387, ...,   17.13368613,\n",
       "           17.13368613,   18.13368613]])}"
      ]
     },
     "execution_count": 41,
     "metadata": {},
     "output_type": "execute_result"
    }
   ],
   "source": [
    "Data_1"
   ]
  },
  {
   "cell_type": "code",
   "execution_count": 52,
   "metadata": {},
   "outputs": [],
   "source": [
    "X=Data_1['X']"
   ]
  },
  {
   "cell_type": "code",
   "execution_count": 53,
   "metadata": {},
   "outputs": [
    {
     "data": {
      "text/plain": [
       "array([[ -37.86631387,  -45.86631387,  -53.86631387, ..., -110.86631387,\n",
       "        -111.86631387,  -99.86631387],\n",
       "       [   8.13368613,   -0.86631387,   -8.86631387, ...,  -34.86631387,\n",
       "          -8.86631387,    0.13368613],\n",
       "       [ -32.86631387,  -34.86631387,  -36.86631387, ..., -110.86631387,\n",
       "        -111.86631387, -111.86631387],\n",
       "       ...,\n",
       "       [ -46.86631387,  -24.86631387,   -8.86631387, ...,   90.13368613,\n",
       "          80.13368613,   59.13368613],\n",
       "       [  19.13368613,   16.13368613,   14.13368613, ...,  -38.86631387,\n",
       "         -41.86631387,  -46.86631387],\n",
       "       [-108.86631387, -106.86631387, -102.86631387, ...,   17.13368613,\n",
       "          17.13368613,   18.13368613]])"
      ]
     },
     "execution_count": 53,
     "metadata": {},
     "output_type": "execute_result"
    }
   ],
   "source": [
    "X"
   ]
  },
  {
   "cell_type": "code",
   "execution_count": 54,
   "metadata": {},
   "outputs": [
    {
     "data": {
      "text/plain": [
       "<matplotlib.image.AxesImage at 0x251853496d8>"
      ]
     },
     "execution_count": 54,
     "metadata": {},
     "output_type": "execute_result"
    },
    {
     "data": {
      "image/png": "[encoded data removed]",
      "text/plain": [
       "<Figure size 432x288 with 1 Axes>"
      ]
     },
     "metadata": {},
     "output_type": "display_data"
    }
   ],
   "source": [
    "face = np.reshape(X[5,:], (32, 32))  \n",
    "plt.imshow(face)"
   ]
  },
  {
   "cell_type": "code",
   "execution_count": 58,
   "metadata": {},
   "outputs": [],
   "source": [
    "U, S, V = PCA(X)  \n",
    "Z = project_data(X, U, 100)"
   ]
  },
  {
   "cell_type": "code",
   "execution_count": 59,
   "metadata": {},
   "outputs": [
    {
     "data": {
      "text/plain": [
       "matrix([[ 526.09608833,  734.37008142,  194.48322788, ...,  -19.27422565,\n",
       "           -3.22314155,   20.93551538],\n",
       "        [ 304.5906028 ,  493.0633805 , -162.10424193, ...,  -20.94839919,\n",
       "           17.86358442,   -8.14045979],\n",
       "        [-389.99893833,  600.20010851, -293.91694459, ...,  -27.86998851,\n",
       "           48.74829475,   17.98452065],\n",
       "        ...,\n",
       "        [ 487.55926046,  430.86037345,  490.71749378, ...,  -31.76395627,\n",
       "           23.77770829,   51.74592358],\n",
       "        [1358.99575656,  402.85437502, -136.10305216, ...,  -10.45305753,\n",
       "           -2.76084233,    2.96467067],\n",
       "        [ 372.01599145,  360.59923883,  105.10564415, ...,  -48.29644614,\n",
       "           -8.75071522,  -30.24094867]])"
      ]
     },
     "execution_count": 59,
     "metadata": {},
     "output_type": "execute_result"
    }
   ],
   "source": [
    "Z"
   ]
  },
  {
   "cell_type": "code",
   "execution_count": 60,
   "metadata": {},
   "outputs": [
    {
     "data": {
      "text/plain": [
       "<matplotlib.image.AxesImage at 0x251853b3b70>"
      ]
     },
     "execution_count": 60,
     "metadata": {},
     "output_type": "execute_result"
    },
    {
     "data": {
      "image/png": "[encoded data removed]",
      "text/plain": [
       "<Figure size 432x288 with 1 Axes>"
      ]
     },
     "metadata": {},
     "output_type": "display_data"
    }
   ],
   "source": [
    "X_recovered = recover_data(Z, U, 100)  \n",
    "face = np.reshape(X_recovered[5,:], (32, 32))  \n",
    "plt.imshow(face)"
   ]
  },
  {
   "cell_type": "code",
   "execution_count": null,
   "metadata": {},
   "outputs": [],
   "source": []
  }
 ],
 "metadata": {
  "kernelspec": {
   "display_name": "Python 3",
   "language": "python",
   "name": "python3"
  },
  "language_info": {
   "codemirror_mode": {
    "name": "ipython",
    "version": 3
   },
   "file_extension": ".py",
   "mimetype": "text/x-python",
   "name": "python",
   "nbconvert_exporter": "python",
   "pygments_lexer": "ipython3",
   "version": "3.6.5"
  }
 },
 "nbformat": 4,
 "nbformat_minor": 2
}
