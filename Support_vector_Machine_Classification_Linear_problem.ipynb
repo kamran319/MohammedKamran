{
 "cells": [
  {
   "cell_type": "code",
   "execution_count": 1,
   "metadata": {},
   "outputs": [],
   "source": [
    "import numpy as np"
   ]
  },
  {
   "cell_type": "code",
   "execution_count": 2,
   "metadata": {},
   "outputs": [],
   "source": [
    "import pandas as pd"
   ]
  },
  {
   "cell_type": "code",
   "execution_count": 3,
   "metadata": {},
   "outputs": [],
   "source": [
    "import os"
   ]
  },
  {
   "cell_type": "code",
   "execution_count": 4,
   "metadata": {},
   "outputs": [],
   "source": [
    "from scipy.io import loadmat"
   ]
  },
  {
   "cell_type": "code",
   "execution_count": 5,
   "metadata": {},
   "outputs": [],
   "source": [
    "import matplotlib.pyplot as plt"
   ]
  },
  {
   "cell_type": "code",
   "execution_count": 6,
   "metadata": {},
   "outputs": [],
   "source": [
    "%matplotlib inline"
   ]
  },
  {
   "cell_type": "code",
   "execution_count": 7,
   "metadata": {},
   "outputs": [],
   "source": [
    "raw_data=loadmat(\"D:\\\\ML Data\\\\svm_data1.mat\")"
   ]
  },
  {
   "cell_type": "code",
   "execution_count": 8,
   "metadata": {},
   "outputs": [
    {
     "data": {
      "text/plain": [
       "{'__header__': b'MATLAB 5.0 MAT-file, Platform: GLNXA64, Created on: Sun Nov 13 14:28:43 2011',\n",
       " '__version__': '1.0',\n",
       " '__globals__': [],\n",
       " 'X': array([[1.9643  , 4.5957  ],\n",
       "        [2.2753  , 3.8589  ],\n",
       "        [2.9781  , 4.5651  ],\n",
       "        [2.932   , 3.5519  ],\n",
       "        [3.5772  , 2.856   ],\n",
       "        [4.015   , 3.1937  ],\n",
       "        [3.3814  , 3.4291  ],\n",
       "        [3.9113  , 4.1761  ],\n",
       "        [2.7822  , 4.0431  ],\n",
       "        [2.5518  , 4.6162  ],\n",
       "        [3.3698  , 3.9101  ],\n",
       "        [3.1048  , 3.0709  ],\n",
       "        [1.9182  , 4.0534  ],\n",
       "        [2.2638  , 4.3706  ],\n",
       "        [2.6555  , 3.5008  ],\n",
       "        [3.1855  , 4.2888  ],\n",
       "        [3.6579  , 3.8692  ],\n",
       "        [3.9113  , 3.4291  ],\n",
       "        [3.6002  , 3.1221  ],\n",
       "        [3.0357  , 3.3165  ],\n",
       "        [1.5841  , 3.3575  ],\n",
       "        [2.0103  , 3.2039  ],\n",
       "        [1.9527  , 2.7843  ],\n",
       "        [2.2753  , 2.7127  ],\n",
       "        [2.3099  , 2.9584  ],\n",
       "        [2.8283  , 2.6309  ],\n",
       "        [3.0473  , 2.2931  ],\n",
       "        [2.4827  , 2.0373  ],\n",
       "        [2.5057  , 2.3853  ],\n",
       "        [1.8721  , 2.0577  ],\n",
       "        [2.0103  , 2.3546  ],\n",
       "        [1.2269  , 2.3239  ],\n",
       "        [1.8951  , 2.9174  ],\n",
       "        [1.561   , 3.0709  ],\n",
       "        [1.5495  , 2.6923  ],\n",
       "        [1.6878  , 2.4057  ],\n",
       "        [1.4919  , 2.0271  ],\n",
       "        [0.962   , 2.682   ],\n",
       "        [1.1693  , 2.9276  ],\n",
       "        [0.8122  , 2.9992  ],\n",
       "        [0.9735  , 3.3881  ],\n",
       "        [1.25    , 3.1937  ],\n",
       "        [1.3191  , 3.5109  ],\n",
       "        [2.2292  , 2.201   ],\n",
       "        [2.4482  , 2.6411  ],\n",
       "        [2.7938  , 1.9656  ],\n",
       "        [2.091   , 1.6177  ],\n",
       "        [2.5403  , 2.8867  ],\n",
       "        [0.9044  , 3.0198  ],\n",
       "        [0.76615 , 2.5899  ],\n",
       "        [0.086405, 4.1045  ]]),\n",
       " 'y': array([[1],\n",
       "        [1],\n",
       "        [1],\n",
       "        [1],\n",
       "        [1],\n",
       "        [1],\n",
       "        [1],\n",
       "        [1],\n",
       "        [1],\n",
       "        [1],\n",
       "        [1],\n",
       "        [1],\n",
       "        [1],\n",
       "        [1],\n",
       "        [1],\n",
       "        [1],\n",
       "        [1],\n",
       "        [1],\n",
       "        [1],\n",
       "        [1],\n",
       "        [0],\n",
       "        [0],\n",
       "        [0],\n",
       "        [0],\n",
       "        [0],\n",
       "        [0],\n",
       "        [0],\n",
       "        [0],\n",
       "        [0],\n",
       "        [0],\n",
       "        [0],\n",
       "        [0],\n",
       "        [0],\n",
       "        [0],\n",
       "        [0],\n",
       "        [0],\n",
       "        [0],\n",
       "        [0],\n",
       "        [0],\n",
       "        [0],\n",
       "        [0],\n",
       "        [0],\n",
       "        [0],\n",
       "        [0],\n",
       "        [0],\n",
       "        [0],\n",
       "        [0],\n",
       "        [0],\n",
       "        [0],\n",
       "        [0],\n",
       "        [1]], dtype=uint8)}"
      ]
     },
     "execution_count": 8,
     "metadata": {},
     "output_type": "execute_result"
    }
   ],
   "source": [
    "raw_data"
   ]
  },
  {
   "cell_type": "code",
   "execution_count": 9,
   "metadata": {},
   "outputs": [],
   "source": [
    "x=raw_data['X']"
   ]
  },
  {
   "cell_type": "code",
   "execution_count": 10,
   "metadata": {},
   "outputs": [
    {
     "data": {
      "text/plain": [
       "(51, 2)"
      ]
     },
     "execution_count": 10,
     "metadata": {},
     "output_type": "execute_result"
    }
   ],
   "source": [
    "x.shape"
   ]
  },
  {
   "cell_type": "code",
   "execution_count": 11,
   "metadata": {},
   "outputs": [
    {
     "data": {
      "text/plain": [
       "array([[1.9643  , 4.5957  ],\n",
       "       [2.2753  , 3.8589  ],\n",
       "       [2.9781  , 4.5651  ],\n",
       "       [2.932   , 3.5519  ],\n",
       "       [3.5772  , 2.856   ],\n",
       "       [4.015   , 3.1937  ],\n",
       "       [3.3814  , 3.4291  ],\n",
       "       [3.9113  , 4.1761  ],\n",
       "       [2.7822  , 4.0431  ],\n",
       "       [2.5518  , 4.6162  ],\n",
       "       [3.3698  , 3.9101  ],\n",
       "       [3.1048  , 3.0709  ],\n",
       "       [1.9182  , 4.0534  ],\n",
       "       [2.2638  , 4.3706  ],\n",
       "       [2.6555  , 3.5008  ],\n",
       "       [3.1855  , 4.2888  ],\n",
       "       [3.6579  , 3.8692  ],\n",
       "       [3.9113  , 3.4291  ],\n",
       "       [3.6002  , 3.1221  ],\n",
       "       [3.0357  , 3.3165  ],\n",
       "       [1.5841  , 3.3575  ],\n",
       "       [2.0103  , 3.2039  ],\n",
       "       [1.9527  , 2.7843  ],\n",
       "       [2.2753  , 2.7127  ],\n",
       "       [2.3099  , 2.9584  ],\n",
       "       [2.8283  , 2.6309  ],\n",
       "       [3.0473  , 2.2931  ],\n",
       "       [2.4827  , 2.0373  ],\n",
       "       [2.5057  , 2.3853  ],\n",
       "       [1.8721  , 2.0577  ],\n",
       "       [2.0103  , 2.3546  ],\n",
       "       [1.2269  , 2.3239  ],\n",
       "       [1.8951  , 2.9174  ],\n",
       "       [1.561   , 3.0709  ],\n",
       "       [1.5495  , 2.6923  ],\n",
       "       [1.6878  , 2.4057  ],\n",
       "       [1.4919  , 2.0271  ],\n",
       "       [0.962   , 2.682   ],\n",
       "       [1.1693  , 2.9276  ],\n",
       "       [0.8122  , 2.9992  ],\n",
       "       [0.9735  , 3.3881  ],\n",
       "       [1.25    , 3.1937  ],\n",
       "       [1.3191  , 3.5109  ],\n",
       "       [2.2292  , 2.201   ],\n",
       "       [2.4482  , 2.6411  ],\n",
       "       [2.7938  , 1.9656  ],\n",
       "       [2.091   , 1.6177  ],\n",
       "       [2.5403  , 2.8867  ],\n",
       "       [0.9044  , 3.0198  ],\n",
       "       [0.76615 , 2.5899  ],\n",
       "       [0.086405, 4.1045  ]])"
      ]
     },
     "execution_count": 11,
     "metadata": {},
     "output_type": "execute_result"
    }
   ],
   "source": [
    "x"
   ]
  },
  {
   "cell_type": "code",
   "execution_count": 12,
   "metadata": {},
   "outputs": [
    {
     "data": {
      "text/plain": [
       "numpy.ndarray"
      ]
     },
     "execution_count": 12,
     "metadata": {},
     "output_type": "execute_result"
    }
   ],
   "source": [
    "type(x)"
   ]
  },
  {
   "cell_type": "code",
   "execution_count": 13,
   "metadata": {},
   "outputs": [],
   "source": [
    "y=raw_data['y']"
   ]
  },
  {
   "cell_type": "code",
   "execution_count": 14,
   "metadata": {},
   "outputs": [
    {
     "data": {
      "text/plain": [
       "array([[1],\n",
       "       [1],\n",
       "       [1],\n",
       "       [1],\n",
       "       [1],\n",
       "       [1],\n",
       "       [1],\n",
       "       [1],\n",
       "       [1],\n",
       "       [1],\n",
       "       [1],\n",
       "       [1],\n",
       "       [1],\n",
       "       [1],\n",
       "       [1],\n",
       "       [1],\n",
       "       [1],\n",
       "       [1],\n",
       "       [1],\n",
       "       [1],\n",
       "       [0],\n",
       "       [0],\n",
       "       [0],\n",
       "       [0],\n",
       "       [0],\n",
       "       [0],\n",
       "       [0],\n",
       "       [0],\n",
       "       [0],\n",
       "       [0],\n",
       "       [0],\n",
       "       [0],\n",
       "       [0],\n",
       "       [0],\n",
       "       [0],\n",
       "       [0],\n",
       "       [0],\n",
       "       [0],\n",
       "       [0],\n",
       "       [0],\n",
       "       [0],\n",
       "       [0],\n",
       "       [0],\n",
       "       [0],\n",
       "       [0],\n",
       "       [0],\n",
       "       [0],\n",
       "       [0],\n",
       "       [0],\n",
       "       [0],\n",
       "       [1]], dtype=uint8)"
      ]
     },
     "execution_count": 14,
     "metadata": {},
     "output_type": "execute_result"
    }
   ],
   "source": [
    "y"
   ]
  },
  {
   "cell_type": "code",
   "execution_count": 15,
   "metadata": {},
   "outputs": [],
   "source": [
    "X1=x[:,0:1]\n",
    "X2=x[:,1:2]"
   ]
  },
  {
   "cell_type": "code",
   "execution_count": 16,
   "metadata": {},
   "outputs": [
    {
     "data": {
      "text/plain": [
       "array([[1.9643  ],\n",
       "       [2.2753  ],\n",
       "       [2.9781  ],\n",
       "       [2.932   ],\n",
       "       [3.5772  ],\n",
       "       [4.015   ],\n",
       "       [3.3814  ],\n",
       "       [3.9113  ],\n",
       "       [2.7822  ],\n",
       "       [2.5518  ],\n",
       "       [3.3698  ],\n",
       "       [3.1048  ],\n",
       "       [1.9182  ],\n",
       "       [2.2638  ],\n",
       "       [2.6555  ],\n",
       "       [3.1855  ],\n",
       "       [3.6579  ],\n",
       "       [3.9113  ],\n",
       "       [3.6002  ],\n",
       "       [3.0357  ],\n",
       "       [1.5841  ],\n",
       "       [2.0103  ],\n",
       "       [1.9527  ],\n",
       "       [2.2753  ],\n",
       "       [2.3099  ],\n",
       "       [2.8283  ],\n",
       "       [3.0473  ],\n",
       "       [2.4827  ],\n",
       "       [2.5057  ],\n",
       "       [1.8721  ],\n",
       "       [2.0103  ],\n",
       "       [1.2269  ],\n",
       "       [1.8951  ],\n",
       "       [1.561   ],\n",
       "       [1.5495  ],\n",
       "       [1.6878  ],\n",
       "       [1.4919  ],\n",
       "       [0.962   ],\n",
       "       [1.1693  ],\n",
       "       [0.8122  ],\n",
       "       [0.9735  ],\n",
       "       [1.25    ],\n",
       "       [1.3191  ],\n",
       "       [2.2292  ],\n",
       "       [2.4482  ],\n",
       "       [2.7938  ],\n",
       "       [2.091   ],\n",
       "       [2.5403  ],\n",
       "       [0.9044  ],\n",
       "       [0.76615 ],\n",
       "       [0.086405]])"
      ]
     },
     "execution_count": 16,
     "metadata": {},
     "output_type": "execute_result"
    }
   ],
   "source": [
    "X1"
   ]
  },
  {
   "cell_type": "code",
   "execution_count": 17,
   "metadata": {},
   "outputs": [
    {
     "data": {
      "text/plain": [
       "array([[4.5957],\n",
       "       [3.8589],\n",
       "       [4.5651],\n",
       "       [3.5519],\n",
       "       [2.856 ],\n",
       "       [3.1937],\n",
       "       [3.4291],\n",
       "       [4.1761],\n",
       "       [4.0431],\n",
       "       [4.6162],\n",
       "       [3.9101],\n",
       "       [3.0709],\n",
       "       [4.0534],\n",
       "       [4.3706],\n",
       "       [3.5008],\n",
       "       [4.2888],\n",
       "       [3.8692],\n",
       "       [3.4291],\n",
       "       [3.1221],\n",
       "       [3.3165],\n",
       "       [3.3575],\n",
       "       [3.2039],\n",
       "       [2.7843],\n",
       "       [2.7127],\n",
       "       [2.9584],\n",
       "       [2.6309],\n",
       "       [2.2931],\n",
       "       [2.0373],\n",
       "       [2.3853],\n",
       "       [2.0577],\n",
       "       [2.3546],\n",
       "       [2.3239],\n",
       "       [2.9174],\n",
       "       [3.0709],\n",
       "       [2.6923],\n",
       "       [2.4057],\n",
       "       [2.0271],\n",
       "       [2.682 ],\n",
       "       [2.9276],\n",
       "       [2.9992],\n",
       "       [3.3881],\n",
       "       [3.1937],\n",
       "       [3.5109],\n",
       "       [2.201 ],\n",
       "       [2.6411],\n",
       "       [1.9656],\n",
       "       [1.6177],\n",
       "       [2.8867],\n",
       "       [3.0198],\n",
       "       [2.5899],\n",
       "       [4.1045]])"
      ]
     },
     "execution_count": 17,
     "metadata": {},
     "output_type": "execute_result"
    }
   ],
   "source": [
    "X2"
   ]
  },
  {
   "cell_type": "code",
   "execution_count": 18,
   "metadata": {},
   "outputs": [],
   "source": [
    "data=pd.DataFrame(raw_data['X'],columns=['X1','X2'])\n",
    "data['y']=raw_data['y']\n",
    "positive =data[data['y'].isin([1])]\n",
    "negative =data[data['y'].isin([0])]"
   ]
  },
  {
   "cell_type": "code",
   "execution_count": 19,
   "metadata": {},
   "outputs": [
    {
     "data": {
      "text/plain": [
       "pandas.core.frame.DataFrame"
      ]
     },
     "execution_count": 19,
     "metadata": {},
     "output_type": "execute_result"
    }
   ],
   "source": [
    "type(data)"
   ]
  },
  {
   "cell_type": "code",
   "execution_count": 20,
   "metadata": {},
   "outputs": [
    {
     "data": {
      "text/plain": [
       "pandas.core.series.Series"
      ]
     },
     "execution_count": 20,
     "metadata": {},
     "output_type": "execute_result"
    }
   ],
   "source": [
    "type(data['y'])"
   ]
  },
  {
   "cell_type": "code",
   "execution_count": 21,
   "metadata": {},
   "outputs": [
    {
     "data": {
      "text/plain": [
       "<matplotlib.collections.PathCollection at 0x26613d07fd0>"
      ]
     },
     "execution_count": 21,
     "metadata": {},
     "output_type": "execute_result"
    },
    {
     "data": {
      "image/png": "[encoded data removed]",
      "text/plain": [
       "<Figure size 864x576 with 1 Axes>"
      ]
     },
     "metadata": {},
     "output_type": "display_data"
    }
   ],
   "source": [
    "fig,ax=plt.subplots(figsize=(12,8))\n",
    "ax.scatter(positive['X1'],positive['X2'],s=50,c='b', marker='o',label='positive')\n",
    "ax.scatter(negative['X1'],negative['X2'],s=50,c='r', marker='x',label='Negative')"
   ]
  },
  {
   "cell_type": "code",
   "execution_count": 22,
   "metadata": {},
   "outputs": [],
   "source": [
    "from sklearn import svm"
   ]
  },
  {
   "cell_type": "code",
   "execution_count": 23,
   "metadata": {},
   "outputs": [],
   "source": [
    "svc=svm.LinearSVC(C=100,max_iter=10000) #for linear SVM"
   ]
  },
  {
   "cell_type": "code",
   "execution_count": 24,
   "metadata": {},
   "outputs": [
    {
     "data": {
      "text/plain": [
       "LinearSVC(C=100, class_weight=None, dual=True, fit_intercept=True,\n",
       "     intercept_scaling=1, loss='squared_hinge', max_iter=10000,\n",
       "     multi_class='ovr', penalty='l2', random_state=None, tol=0.0001,\n",
       "     verbose=0)"
      ]
     },
     "execution_count": 24,
     "metadata": {},
     "output_type": "execute_result"
    }
   ],
   "source": [
    "svc.fit(data[['X1','X2']],data['y'])"
   ]
  },
  {
   "cell_type": "code",
   "execution_count": 25,
   "metadata": {},
   "outputs": [
    {
     "data": {
      "text/plain": [
       "1.0"
      ]
     },
     "execution_count": 25,
     "metadata": {},
     "output_type": "execute_result"
    }
   ],
   "source": [
    "svc.score(data[['X1','X2']],data['y'])"
   ]
  }
 ],
 "metadata": {
  "kernelspec": {
   "display_name": "Python 3",
   "language": "python",
   "name": "python3"
  },
  "language_info": {
   "codemirror_mode": {
    "name": "ipython",
    "version": 3
   },
   "file_extension": ".py",
   "mimetype": "text/x-python",
   "name": "python",
   "nbconvert_exporter": "python",
   "pygments_lexer": "ipython3",
   "version": "3.6.5"
  }
 },
 "nbformat": 4,
 "nbformat_minor": 2
}
